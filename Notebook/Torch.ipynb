{
 "cells": [
  {
   "cell_type": "markdown",
   "id": "e070ee90-eb60-4909-a07f-5c1bee270599",
   "metadata": {},
   "source": [
    "# DeepLabv3 Using Pytorch"
   ]
  },
  {
   "cell_type": "markdown",
   "id": "dc1c6e38-91a8-49ff-b96f-e2b19cbbbb42",
   "metadata": {},
   "source": [
    "## Import and Load Libraries"
   ]
  },
  {
   "cell_type": "code",
   "execution_count": 1,
   "id": "d4169eb6-16a4-4bca-bc54-bcdd04cb9973",
   "metadata": {},
   "outputs": [],
   "source": [
    "import os\n",
    "import numpy as np\n",
    "import torch\n",
    "import torch.nn as nn\n",
    "import torch.nn.functional as F\n",
    "from torchvision import models \n",
    "from torchsummary import summary\n",
    "import torch.optim as optim\n",
    "import time\n",
    "import matplotlib.pyplot as plt\n",
    "\n",
    "from tqdm import tqdm\n",
    "\n",
    "import torchvision.transforms as transforms\n",
    "from torchvision.models import resnet50, resnet101\n",
    "import matplotlib.pyplot as plt\n",
    "from torch.optim import Adam, RMSprop, SGD\n",
    "from sklearn.metrics import jaccard_score, precision_score, recall_score, f1_score\n",
    "import tifffile as tiff\n",
    "from PIL import Image\n",
    "from torch.utils.data import DataLoader, Dataset, Subset, TensorDataset\n",
    "from sklearn.model_selection import train_test_split\n",
    "from sklearn.preprocessing import MinMaxScaler\n",
    "from torch.optim.lr_scheduler import ReduceLROnPlateau"
   ]
  },
  {
   "cell_type": "markdown",
   "id": "f6842be9-59f4-48b6-bdbd-5dbefe6a8f64",
   "metadata": {},
   "source": [
    "## Load and Prepare Dataset"
   ]
  },
  {
   "cell_type": "code",
   "execution_count": 2,
   "id": "4212bc5c-071b-4fcf-8017-1bb8c51d97aa",
   "metadata": {},
   "outputs": [
    {
     "name": "stdout",
     "output_type": "stream",
     "text": [
      "Loaded 306 images with shape torch.Size([9, 128, 128]) and 306 labels with shape torch.Size([1, 128, 128])\n"
     ]
    }
   ],
   "source": [
    "def load_images_and_labels_9_channels(data_path):\n",
    "    images_path = os.path.join(data_path, 'images')\n",
    "    labels_path = os.path.join(data_path, 'labels')\n",
    "    \n",
    "    scaler = MinMaxScaler()\n",
    "\n",
    "    images = []\n",
    "    labels = []\n",
    "    \n",
    "    for filename in os.listdir(images_path):\n",
    "        if filename.endswith('.tif'):  \n",
    "            image = tiff.imread(os.path.join(images_path, filename))\n",
    "            # Remove the first 3 RGB channels, use only the remaining 9 channels\n",
    "            channels_9_image = image[:, :, 3:]  # Channels 4 to 12\n",
    "            reshaped_image = channels_9_image.reshape(-1, 9)\n",
    "            normalized_image = scaler.fit_transform(reshaped_image).reshape(128, 128, 9)  # MinMaxScaler normalization\n",
    "            \n",
    "            # Load the label\n",
    "            label_filename = filename.replace('.tif', '.png') \n",
    "            label = Image.open(os.path.join(labels_path, label_filename)).convert(\"L\")\n",
    "            label = label.resize((128, 128))\n",
    "            label = np.array(label, dtype=np.float32) / 255.0  # Normalize to [0, 1]\n",
    "            \n",
    "            images.append(normalized_image)\n",
    "            labels.append(label)\n",
    "\n",
    "    images = torch.tensor(np.array(images), dtype=torch.float32).permute(0, 3, 1, 2)  # From (batch_size, 128, 128, 9) to (batch_size, 9, 128, 128)\n",
    "    labels = torch.tensor(np.array(labels), dtype=torch.float32).unsqueeze(1) \n",
    "    return images, labels\n",
    "\n",
    "data_path = r\"D:\\Mohamed Sheriff\\Projects\\Computer Vision Internship - Cellula Technologies\\Water Segementation\\Dataset\"\n",
    "images, labels = load_images_and_labels_9_channels(data_path)\n",
    "\n",
    "print(f\"Loaded {len(images)} images with shape {images[0].shape} and {len(labels)} labels with shape {labels[0].shape}\")\n"
   ]
  },
  {
   "cell_type": "markdown",
   "id": "2d505f3e-3a1f-442a-b57a-71c1745b448d",
   "metadata": {},
   "source": [
    "### Splitting Dataset to $Train-Validation-Test$"
   ]
  },
  {
   "cell_type": "code",
   "execution_count": 3,
   "id": "1b0c8a5f-25a1-453d-a635-ce7e0481df77",
   "metadata": {},
   "outputs": [],
   "source": [
    "train_dataset = TensorDataset(images, labels)"
   ]
  },
  {
   "cell_type": "code",
   "execution_count": 4,
   "id": "44388693-0de9-4c62-b897-6244d440539e",
   "metadata": {},
   "outputs": [
    {
     "name": "stdout",
     "output_type": "stream",
     "text": [
      "Training set size: 244\n",
      "Validation set size: 37\n",
      "Test set size: 25\n"
     ]
    }
   ],
   "source": [
    "dataset_size = len(train_dataset)\n",
    "indices = list(range(dataset_size))\n",
    "\n",
    "train_indices, val_indices = train_test_split(indices, test_size=0.2, random_state=365)\n",
    "val_indices, test_indices = train_test_split(val_indices, test_size=0.4, random_state=365)\n",
    "\n",
    "train_dataset_subset = Subset(train_dataset, train_indices)\n",
    "val_dataset_subset = Subset(train_dataset, val_indices)\n",
    "test_dataset_subset = Subset(train_dataset, test_indices)\n",
    "\n",
    "train_loader = DataLoader(train_dataset_subset, batch_size=8, shuffle=True)\n",
    "val_loader = DataLoader(val_dataset_subset, batch_size=8, shuffle=False)\n",
    "test_loader = DataLoader(test_dataset_subset, batch_size=8, shuffle=False)\n",
    "\n",
    "print(f\"Training set size: {len(train_dataset_subset)}\")\n",
    "print(f\"Validation set size: {len(val_dataset_subset)}\")\n",
    "print(f\"Test set size: {len(test_dataset_subset)}\")"
   ]
  },
  {
   "cell_type": "markdown",
   "id": "a82b3a66-ffa9-4cae-941b-e0ed09a4fafa",
   "metadata": {},
   "source": [
    "## Building Custom DeepLabv3+ Model Architecture "
   ]
  },
  {
   "cell_type": "code",
   "execution_count": 5,
   "id": "f660dab6-e70c-4bc0-8e20-f8dd788091b4",
   "metadata": {
    "scrolled": true
   },
   "outputs": [
    {
     "name": "stderr",
     "output_type": "stream",
     "text": [
      "D:\\Mohamed Sheriff\\Programs\\Anaconda3 - Jupiter\\envs\\torch\\lib\\site-packages\\torchvision\\models\\_utils.py:208: UserWarning: The parameter 'pretrained' is deprecated since 0.13 and may be removed in the future, please use 'weights' instead.\n",
      "  warnings.warn(\n",
      "D:\\Mohamed Sheriff\\Programs\\Anaconda3 - Jupiter\\envs\\torch\\lib\\site-packages\\torchvision\\models\\_utils.py:223: UserWarning: Arguments other than a weight enum or `None` for 'weights' are deprecated since 0.13 and may be removed in the future. The current behavior is equivalent to passing `weights=None`.\n",
      "  warnings.warn(msg)\n"
     ]
    },
    {
     "name": "stdout",
     "output_type": "stream",
     "text": [
      "Output shape: torch.Size([1, 1, 128, 128])\n",
      "Loss: 0.7307831048965454\n",
      "----------------------------------------------------------------\n",
      "        Layer (type)               Output Shape         Param #\n",
      "================================================================\n",
      "            Conv2d-1          [-1, 3, 128, 128]              30\n",
      "            Conv2d-2           [-1, 64, 64, 64]           9,408\n",
      "       BatchNorm2d-3           [-1, 64, 64, 64]             128\n",
      "              ReLU-4           [-1, 64, 64, 64]               0\n",
      "         MaxPool2d-5           [-1, 64, 32, 32]               0\n",
      "            Conv2d-6           [-1, 64, 32, 32]           4,096\n",
      "       BatchNorm2d-7           [-1, 64, 32, 32]             128\n",
      "              ReLU-8           [-1, 64, 32, 32]               0\n",
      "            Conv2d-9           [-1, 64, 32, 32]          36,864\n",
      "      BatchNorm2d-10           [-1, 64, 32, 32]             128\n",
      "             ReLU-11           [-1, 64, 32, 32]               0\n",
      "           Conv2d-12          [-1, 256, 32, 32]          16,384\n",
      "      BatchNorm2d-13          [-1, 256, 32, 32]             512\n",
      "           Conv2d-14          [-1, 256, 32, 32]          16,384\n",
      "      BatchNorm2d-15          [-1, 256, 32, 32]             512\n",
      "             ReLU-16          [-1, 256, 32, 32]               0\n",
      "       Bottleneck-17          [-1, 256, 32, 32]               0\n",
      "           Conv2d-18           [-1, 64, 32, 32]          16,384\n",
      "      BatchNorm2d-19           [-1, 64, 32, 32]             128\n",
      "             ReLU-20           [-1, 64, 32, 32]               0\n",
      "           Conv2d-21           [-1, 64, 32, 32]          36,864\n",
      "      BatchNorm2d-22           [-1, 64, 32, 32]             128\n",
      "             ReLU-23           [-1, 64, 32, 32]               0\n",
      "           Conv2d-24          [-1, 256, 32, 32]          16,384\n",
      "      BatchNorm2d-25          [-1, 256, 32, 32]             512\n",
      "             ReLU-26          [-1, 256, 32, 32]               0\n",
      "       Bottleneck-27          [-1, 256, 32, 32]               0\n",
      "           Conv2d-28           [-1, 64, 32, 32]          16,384\n",
      "      BatchNorm2d-29           [-1, 64, 32, 32]             128\n",
      "             ReLU-30           [-1, 64, 32, 32]               0\n",
      "           Conv2d-31           [-1, 64, 32, 32]          36,864\n",
      "      BatchNorm2d-32           [-1, 64, 32, 32]             128\n",
      "             ReLU-33           [-1, 64, 32, 32]               0\n",
      "           Conv2d-34          [-1, 256, 32, 32]          16,384\n",
      "      BatchNorm2d-35          [-1, 256, 32, 32]             512\n",
      "             ReLU-36          [-1, 256, 32, 32]               0\n",
      "       Bottleneck-37          [-1, 256, 32, 32]               0\n",
      "           Conv2d-38          [-1, 128, 32, 32]          32,768\n",
      "      BatchNorm2d-39          [-1, 128, 32, 32]             256\n",
      "             ReLU-40          [-1, 128, 32, 32]               0\n",
      "           Conv2d-41          [-1, 128, 16, 16]         147,456\n",
      "      BatchNorm2d-42          [-1, 128, 16, 16]             256\n",
      "             ReLU-43          [-1, 128, 16, 16]               0\n",
      "           Conv2d-44          [-1, 512, 16, 16]          65,536\n",
      "      BatchNorm2d-45          [-1, 512, 16, 16]           1,024\n",
      "           Conv2d-46          [-1, 512, 16, 16]         131,072\n",
      "      BatchNorm2d-47          [-1, 512, 16, 16]           1,024\n",
      "             ReLU-48          [-1, 512, 16, 16]               0\n",
      "       Bottleneck-49          [-1, 512, 16, 16]               0\n",
      "           Conv2d-50          [-1, 128, 16, 16]          65,536\n",
      "      BatchNorm2d-51          [-1, 128, 16, 16]             256\n",
      "             ReLU-52          [-1, 128, 16, 16]               0\n",
      "           Conv2d-53          [-1, 128, 16, 16]         147,456\n",
      "      BatchNorm2d-54          [-1, 128, 16, 16]             256\n",
      "             ReLU-55          [-1, 128, 16, 16]               0\n",
      "           Conv2d-56          [-1, 512, 16, 16]          65,536\n",
      "      BatchNorm2d-57          [-1, 512, 16, 16]           1,024\n",
      "             ReLU-58          [-1, 512, 16, 16]               0\n",
      "       Bottleneck-59          [-1, 512, 16, 16]               0\n",
      "           Conv2d-60          [-1, 128, 16, 16]          65,536\n",
      "      BatchNorm2d-61          [-1, 128, 16, 16]             256\n",
      "             ReLU-62          [-1, 128, 16, 16]               0\n",
      "           Conv2d-63          [-1, 128, 16, 16]         147,456\n",
      "      BatchNorm2d-64          [-1, 128, 16, 16]             256\n",
      "             ReLU-65          [-1, 128, 16, 16]               0\n",
      "           Conv2d-66          [-1, 512, 16, 16]          65,536\n",
      "      BatchNorm2d-67          [-1, 512, 16, 16]           1,024\n",
      "             ReLU-68          [-1, 512, 16, 16]               0\n",
      "       Bottleneck-69          [-1, 512, 16, 16]               0\n",
      "           Conv2d-70          [-1, 128, 16, 16]          65,536\n",
      "      BatchNorm2d-71          [-1, 128, 16, 16]             256\n",
      "             ReLU-72          [-1, 128, 16, 16]               0\n",
      "           Conv2d-73          [-1, 128, 16, 16]         147,456\n",
      "      BatchNorm2d-74          [-1, 128, 16, 16]             256\n",
      "             ReLU-75          [-1, 128, 16, 16]               0\n",
      "           Conv2d-76          [-1, 512, 16, 16]          65,536\n",
      "      BatchNorm2d-77          [-1, 512, 16, 16]           1,024\n",
      "             ReLU-78          [-1, 512, 16, 16]               0\n",
      "       Bottleneck-79          [-1, 512, 16, 16]               0\n",
      "           Conv2d-80          [-1, 256, 16, 16]         131,072\n",
      "      BatchNorm2d-81          [-1, 256, 16, 16]             512\n",
      "             ReLU-82          [-1, 256, 16, 16]               0\n",
      "           Conv2d-83            [-1, 256, 8, 8]         589,824\n",
      "      BatchNorm2d-84            [-1, 256, 8, 8]             512\n",
      "             ReLU-85            [-1, 256, 8, 8]               0\n",
      "           Conv2d-86           [-1, 1024, 8, 8]         262,144\n",
      "      BatchNorm2d-87           [-1, 1024, 8, 8]           2,048\n",
      "           Conv2d-88           [-1, 1024, 8, 8]         524,288\n",
      "      BatchNorm2d-89           [-1, 1024, 8, 8]           2,048\n",
      "             ReLU-90           [-1, 1024, 8, 8]               0\n",
      "       Bottleneck-91           [-1, 1024, 8, 8]               0\n",
      "           Conv2d-92            [-1, 256, 8, 8]         262,144\n",
      "      BatchNorm2d-93            [-1, 256, 8, 8]             512\n",
      "             ReLU-94            [-1, 256, 8, 8]               0\n",
      "           Conv2d-95            [-1, 256, 8, 8]         589,824\n",
      "      BatchNorm2d-96            [-1, 256, 8, 8]             512\n",
      "             ReLU-97            [-1, 256, 8, 8]               0\n",
      "           Conv2d-98           [-1, 1024, 8, 8]         262,144\n",
      "      BatchNorm2d-99           [-1, 1024, 8, 8]           2,048\n",
      "            ReLU-100           [-1, 1024, 8, 8]               0\n",
      "      Bottleneck-101           [-1, 1024, 8, 8]               0\n",
      "          Conv2d-102            [-1, 256, 8, 8]         262,144\n",
      "     BatchNorm2d-103            [-1, 256, 8, 8]             512\n",
      "            ReLU-104            [-1, 256, 8, 8]               0\n",
      "          Conv2d-105            [-1, 256, 8, 8]         589,824\n",
      "     BatchNorm2d-106            [-1, 256, 8, 8]             512\n",
      "            ReLU-107            [-1, 256, 8, 8]               0\n",
      "          Conv2d-108           [-1, 1024, 8, 8]         262,144\n",
      "     BatchNorm2d-109           [-1, 1024, 8, 8]           2,048\n",
      "            ReLU-110           [-1, 1024, 8, 8]               0\n",
      "      Bottleneck-111           [-1, 1024, 8, 8]               0\n",
      "          Conv2d-112            [-1, 256, 8, 8]         262,144\n",
      "     BatchNorm2d-113            [-1, 256, 8, 8]             512\n",
      "            ReLU-114            [-1, 256, 8, 8]               0\n",
      "          Conv2d-115            [-1, 256, 8, 8]         589,824\n",
      "     BatchNorm2d-116            [-1, 256, 8, 8]             512\n",
      "            ReLU-117            [-1, 256, 8, 8]               0\n",
      "          Conv2d-118           [-1, 1024, 8, 8]         262,144\n",
      "     BatchNorm2d-119           [-1, 1024, 8, 8]           2,048\n",
      "            ReLU-120           [-1, 1024, 8, 8]               0\n",
      "      Bottleneck-121           [-1, 1024, 8, 8]               0\n",
      "          Conv2d-122            [-1, 256, 8, 8]         262,144\n",
      "     BatchNorm2d-123            [-1, 256, 8, 8]             512\n",
      "            ReLU-124            [-1, 256, 8, 8]               0\n",
      "          Conv2d-125            [-1, 256, 8, 8]         589,824\n",
      "     BatchNorm2d-126            [-1, 256, 8, 8]             512\n",
      "            ReLU-127            [-1, 256, 8, 8]               0\n",
      "          Conv2d-128           [-1, 1024, 8, 8]         262,144\n",
      "     BatchNorm2d-129           [-1, 1024, 8, 8]           2,048\n",
      "            ReLU-130           [-1, 1024, 8, 8]               0\n",
      "      Bottleneck-131           [-1, 1024, 8, 8]               0\n",
      "          Conv2d-132            [-1, 256, 8, 8]         262,144\n",
      "     BatchNorm2d-133            [-1, 256, 8, 8]             512\n",
      "            ReLU-134            [-1, 256, 8, 8]               0\n",
      "          Conv2d-135            [-1, 256, 8, 8]         589,824\n",
      "     BatchNorm2d-136            [-1, 256, 8, 8]             512\n",
      "            ReLU-137            [-1, 256, 8, 8]               0\n",
      "          Conv2d-138           [-1, 1024, 8, 8]         262,144\n",
      "     BatchNorm2d-139           [-1, 1024, 8, 8]           2,048\n",
      "            ReLU-140           [-1, 1024, 8, 8]               0\n",
      "      Bottleneck-141           [-1, 1024, 8, 8]               0\n",
      "          Conv2d-142            [-1, 512, 8, 8]         524,288\n",
      "     BatchNorm2d-143            [-1, 512, 8, 8]           1,024\n",
      "            ReLU-144            [-1, 512, 8, 8]               0\n",
      "          Conv2d-145            [-1, 512, 4, 4]       2,359,296\n",
      "     BatchNorm2d-146            [-1, 512, 4, 4]           1,024\n",
      "            ReLU-147            [-1, 512, 4, 4]               0\n",
      "          Conv2d-148           [-1, 2048, 4, 4]       1,048,576\n",
      "     BatchNorm2d-149           [-1, 2048, 4, 4]           4,096\n",
      "          Conv2d-150           [-1, 2048, 4, 4]       2,097,152\n",
      "     BatchNorm2d-151           [-1, 2048, 4, 4]           4,096\n",
      "            ReLU-152           [-1, 2048, 4, 4]               0\n",
      "      Bottleneck-153           [-1, 2048, 4, 4]               0\n",
      "          Conv2d-154            [-1, 512, 4, 4]       1,048,576\n",
      "     BatchNorm2d-155            [-1, 512, 4, 4]           1,024\n",
      "            ReLU-156            [-1, 512, 4, 4]               0\n",
      "          Conv2d-157            [-1, 512, 4, 4]       2,359,296\n",
      "     BatchNorm2d-158            [-1, 512, 4, 4]           1,024\n",
      "            ReLU-159            [-1, 512, 4, 4]               0\n",
      "          Conv2d-160           [-1, 2048, 4, 4]       1,048,576\n",
      "     BatchNorm2d-161           [-1, 2048, 4, 4]           4,096\n",
      "            ReLU-162           [-1, 2048, 4, 4]               0\n",
      "      Bottleneck-163           [-1, 2048, 4, 4]               0\n",
      "          Conv2d-164            [-1, 512, 4, 4]       1,048,576\n",
      "     BatchNorm2d-165            [-1, 512, 4, 4]           1,024\n",
      "            ReLU-166            [-1, 512, 4, 4]               0\n",
      "          Conv2d-167            [-1, 512, 4, 4]       2,359,296\n",
      "     BatchNorm2d-168            [-1, 512, 4, 4]           1,024\n",
      "            ReLU-169            [-1, 512, 4, 4]               0\n",
      "          Conv2d-170           [-1, 2048, 4, 4]       1,048,576\n",
      "     BatchNorm2d-171           [-1, 2048, 4, 4]           4,096\n",
      "            ReLU-172           [-1, 2048, 4, 4]               0\n",
      "      Bottleneck-173           [-1, 2048, 4, 4]               0\n",
      "          Conv2d-174          [-1, 512, 16, 16]      11,796,992\n",
      "          Conv2d-175          [-1, 512, 16, 16]       2,359,808\n",
      "     BatchNorm2d-176          [-1, 512, 16, 16]           1,024\n",
      "         Dropout-177          [-1, 512, 16, 16]               0\n",
      "          Conv2d-178          [-1, 256, 32, 32]       1,769,728\n",
      "          Conv2d-179          [-1, 256, 32, 32]         590,080\n",
      "     BatchNorm2d-180          [-1, 256, 32, 32]             512\n",
      "         Dropout-181          [-1, 256, 32, 32]               0\n",
      "          Conv2d-182          [-1, 128, 64, 64]         368,768\n",
      "          Conv2d-183          [-1, 128, 64, 64]         147,584\n",
      "     BatchNorm2d-184          [-1, 128, 64, 64]             256\n",
      "          Conv2d-185          [-1, 1, 128, 128]             129\n",
      "================================================================\n",
      "Total params: 40,542,943\n",
      "Trainable params: 40,542,943\n",
      "Non-trainable params: 0\n",
      "----------------------------------------------------------------\n",
      "Input size (MB): 0.56\n",
      "Forward/backward pass size (MB): 118.06\n",
      "Params size (MB): 154.66\n",
      "Estimated Total Size (MB): 273.28\n",
      "----------------------------------------------------------------\n"
     ]
    }
   ],
   "source": [
    "class DeepLabV3Plus(nn.Module):\n",
    "    def __init__(self):\n",
    "        super(DeepLabV3Plus, self).__init__()\n",
    "        \n",
    "        # New first layer to convert 9 input channels to 3 channels (as expected by ResNet50)\n",
    "        self.new_first_layer = nn.Conv2d(in_channels=9, out_channels=3, kernel_size=1, padding=0)\n",
    "\n",
    "        # Pretrained ResNet50 backbone\n",
    "        resnet = resnet50(pretrained=False)\n",
    "        self.resnet = nn.Sequential(*list(resnet.children())[:-2])  # Remove the top FC layers\n",
    "\n",
    "        # Decoding layers\n",
    "        self.conv5a = nn.Conv2d(2048 + 512, 512, kernel_size=3, padding=1)  # Update input channels to 2048+512 = 2560\n",
    "        self.conv5b = nn.Conv2d(512, 512, kernel_size=3, padding=1)\n",
    "        self.bn5 = nn.BatchNorm2d(512)\n",
    "        self.dropout5 = nn.Dropout(0.3)\n",
    "        \n",
    "        self.conv6a = nn.Conv2d(512 + 256, 256, kernel_size=3, padding=1)\n",
    "        self.conv6b = nn.Conv2d(256, 256, kernel_size=3, padding=1)\n",
    "        self.bn6 = nn.BatchNorm2d(256)\n",
    "        self.dropout6 = nn.Dropout(0.3)\n",
    "        \n",
    "        self.conv7a = nn.Conv2d(256 + 64, 128, kernel_size=3, padding=1)\n",
    "        self.conv7b = nn.Conv2d(128, 128, kernel_size=3, padding=1)\n",
    "        self.bn7 = nn.BatchNorm2d(128)\n",
    "        self.dropout7 = nn.Dropout(0.4)\n",
    "\n",
    "        self.output_conv = nn.Conv2d(128, 1, kernel_size=1, padding=0)\n",
    "        \n",
    "    def forward(self, x):\n",
    "        # First layer: adjust from 9 input channels to 3\n",
    "        x = self.new_first_layer(x)\n",
    "\n",
    "        # Extract layers from ResNet50\n",
    "        conv1 = self.resnet[:3](x)     # conv1_relu, downsampled 2x\n",
    "        conv2 = self.resnet[3:5](conv1) # conv2_block3_out, downsampled 4x\n",
    "        conv3 = self.resnet[5:6](conv2) # conv3_block4_out, downsampled 8x\n",
    "        conv4 = self.resnet[6:](conv3)  # conv4_block6_out, downsampled 16x\n",
    "\n",
    "        # Decode\n",
    "        up5 = F.interpolate(conv4, scale_factor=2, mode='bilinear', align_corners=True)\n",
    "        if up5.size()[2:] != conv3.size()[2:]:\n",
    "            up5 = F.interpolate(up5, size=conv3.size()[2:], mode='bilinear', align_corners=True)\n",
    "        concat5 = torch.cat([up5, conv3], dim=1)\n",
    "        conv5 = F.relu(self.conv5a(concat5))\n",
    "        conv5 = F.relu(self.conv5b(conv5))\n",
    "        conv5 = self.bn5(conv5)\n",
    "        conv5 = self.dropout5(conv5)\n",
    "\n",
    "        up6 = F.interpolate(conv5, scale_factor=2, mode='bilinear', align_corners=True)\n",
    "        if up6.size()[2:] != conv2.size()[2:]:\n",
    "            up6 = F.interpolate(up6, size=conv2.size()[2:], mode='bilinear', align_corners=True)\n",
    "        concat6 = torch.cat([up6, conv2], dim=1)\n",
    "        conv6 = F.relu(self.conv6a(concat6))\n",
    "        conv6 = F.relu(self.conv6b(conv6))\n",
    "        conv6 = self.bn6(conv6)\n",
    "        conv6 = self.dropout6(conv6)\n",
    "\n",
    "        up7 = F.interpolate(conv6, scale_factor=2, mode='bilinear', align_corners=True)\n",
    "        if up7.size()[2:] != conv1.size()[2:]:\n",
    "            up7 = F.interpolate(up7, size=conv1.size()[2:], mode='bilinear', align_corners=True)\n",
    "        concat7 = torch.cat([up7, conv1], dim=1)\n",
    "        conv7 = F.relu(self.conv7a(concat7))\n",
    "        conv7 = F.relu(self.conv7b(conv7))\n",
    "        conv7 = self.bn7(conv7)\n",
    "\n",
    "        up8 = F.interpolate(conv7, size=(128, 128), mode='bilinear', align_corners=True)\n",
    "\n",
    "        # Output layer\n",
    "        output = torch.sigmoid(self.output_conv(up8))\n",
    "\n",
    "        return output\n",
    "\n",
    "if __name__ == \"__main__\":\n",
    "    device = torch.device('cuda' if torch.cuda.is_available() else 'cpu')\n",
    "\n",
    "    # Initialize model and move it to the GPU\n",
    "    model = DeepLabV3Plus().to(device)\n",
    "\n",
    "    # Example input tensor (9 channels, move it to the GPU)\n",
    "    input_tensor = torch.randn(1, 9, 128, 128).to(device)\n",
    "\n",
    "    # Forward pass\n",
    "    output = model(input_tensor)\n",
    "\n",
    "    # Print output shape to confirm\n",
    "    print(f\"Output shape: {output.shape}\")\n",
    "\n",
    "    # Loss and optimizer\n",
    "    optimizer = Adam(model.parameters(), lr=0.001)\n",
    "    criterion = nn.BCELoss()\n",
    "\n",
    "    # Example target tensor (move it to the GPU)\n",
    "    target = torch.randn(1, 1, 128, 128).to(device)\n",
    "\n",
    "    # Resize the target tensor to match output size and ensure it's in range [0, 1]\n",
    "    target_resized = F.interpolate(target, size=output.size()[2:], mode='bilinear', align_corners=True)\n",
    "    target_resized = torch.clamp(target_resized, 0, 1)\n",
    "\n",
    "    # Compute the loss\n",
    "    loss = criterion(output, target_resized)\n",
    "    print(f\"Loss: {loss.item()}\")\n",
    "summary(model, input_size=(9, 128, 128)) # (channels, height, width)"
   ]
  },
  {
   "cell_type": "markdown",
   "id": "9b44ab20-8791-4716-a532-85935b70bb98",
   "metadata": {},
   "source": [
    "## Defining Metrics $Dice_Loss-Dics_accuracy-Accuracy-F1_Score$"
   ]
  },
  {
   "cell_type": "markdown",
   "id": "a34ea224-2d75-4aaa-81b2-b289e4131d94",
   "metadata": {},
   "source": [
    "- `y_pred > threshold:` This converts the predicted probabilities into binary predictions (0 or 1). Predictions greater than the threshold (e.g., 0.5) are considered 1, and those less than or equal to the threshold are considered 0.\n",
    "- `True Positives (tp):` The sum of cases where both y_pred and y_true are 1.\n",
    "- `False Positives (fp):` The sum of cases where y_pred is 1 but y_true is 0.\n",
    "- `False Negatives (fn):` The sum of cases where y_pred is 0 but y_true is 1.\n",
    "- `Precision:` The ratio of true positives to the total predicted positives (tp / (tp + fp)).\n",
    "- `Recall:` The ratio of true positives to the total actual positives (tp / (tp + fn)).\n",
    "- `F1 Score: `The harmonic mean of precision and recall (2 * (precision * recall) / (precision + recall))"
   ]
  },
  {
   "cell_type": "code",
   "execution_count": 6,
   "id": "ca1d40a0-463c-4f70-8647-142d005dd27e",
   "metadata": {},
   "outputs": [],
   "source": [
    "def f1_score(y_pred, y_true, threshold=0.5):\n",
    "    y_pred = (y_pred > threshold).float()\n",
    "    y_true = y_true.float()\n",
    "\n",
    "    tp = torch.sum(y_pred * y_true)\n",
    "    fp = torch.sum(y_pred * (1 - y_true))\n",
    "    fn = torch.sum((1 - y_pred) * y_true)\n",
    "\n",
    "    precision = tp / (tp + fp + 1e-8)\n",
    "    recall = tp / (tp + fn + 1e-8)\n",
    "\n",
    "    f1 = 2 * (precision * recall) / (precision + recall + 1e-8)\n",
    "    return f1\n",
    "    \n",
    "# def f1_score(y_pred, y_true, threshold=0.5):\n",
    "#     y_pred = (y_pred > threshold).float() \n",
    "#     y_true = y_true.float()\n",
    "\n",
    "#     tp = torch.sum(y_pred * y_true)\n",
    "#     fp = torch.sum(y_pred * (1 - y_true))\n",
    "#     fn = torch.sum((1 - y_pred) * y_true)\n",
    "\n",
    "#     precision = tp / (tp + fp + 1e-8)\n",
    "#     recall = tp / (tp + fn + 1e-8)\n",
    "\n",
    "#     f1 = 2 * (precision * recall) / (precision + recall + 1e-8)\n",
    "#     return f1"
   ]
  },
  {
   "cell_type": "code",
   "execution_count": 7,
   "id": "7b304665-2ee6-4ca9-8be8-c451c88a283c",
   "metadata": {},
   "outputs": [],
   "source": [
    "device = torch.device('cuda' if torch.cuda.is_available() else 'cpu')\n",
    "\n",
    "optimizer = optim.Adam(model.parameters(), lr=1e-4, weight_decay=1e-6)\n",
    "\n",
    "def combined_loss(y_true, y_pred):\n",
    "    bce = nn.BCEWithLogitsLoss()(y_pred, y_true)  \n",
    "    dice = dice_loss(torch.sigmoid(y_pred), y_true)  \n",
    "    return bce + dice"
   ]
  },
  {
   "cell_type": "markdown",
   "id": "f09b7f50-5646-441f-b602-d8444d917007",
   "metadata": {},
   "source": [
    "### Compiling Model "
   ]
  },
  {
   "cell_type": "code",
   "execution_count": 9,
   "id": "76912aa8-384c-4134-ad63-c64bc079c1be",
   "metadata": {
    "scrolled": true
   },
   "outputs": [
    {
     "name": "stderr",
     "output_type": "stream",
     "text": [
      "                                                                                                                       \r"
     ]
    },
    {
     "name": "stdout",
     "output_type": "stream",
     "text": [
      "Epoch 1/100 16/16 [==============================] - 7s - loss: 0.7336 - accuracy: 33.80% - f1: 0.0022 ---------------------------------------------- val_loss: 0.7183 - val_accuracy: 0.01% - val_f1: 0.0017\n"
     ]
    },
    {
     "name": "stderr",
     "output_type": "stream",
     "text": [
      "                                                                                                                       \r"
     ]
    },
    {
     "name": "stdout",
     "output_type": "stream",
     "text": [
      "Epoch 2/100 16/16 [==============================] - 7s - loss: 0.7144 - accuracy: 36.43% - f1: 0.0022 ---------------------------------------------- val_loss: 0.7101 - val_accuracy: 16.02% - val_f1: 0.0016\n"
     ]
    },
    {
     "name": "stderr",
     "output_type": "stream",
     "text": [
      "                                                                                                                       \r"
     ]
    },
    {
     "name": "stdout",
     "output_type": "stream",
     "text": [
      "Epoch 3/100 16/16 [==============================] - 7s - loss: 0.7081 - accuracy: 42.62% - f1: 0.0024 ---------------------------------------------- val_loss: 0.6987 - val_accuracy: 59.10% - val_f1: 0.0023\n"
     ]
    },
    {
     "name": "stderr",
     "output_type": "stream",
     "text": [
      "                                                                                                                       \r"
     ]
    },
    {
     "name": "stdout",
     "output_type": "stream",
     "text": [
      "Epoch 4/100 16/16 [==============================] - 7s - loss: 0.7023 - accuracy: 48.77% - f1: 0.0025 ---------------------------------------------- val_loss: 0.6909 - val_accuracy: 68.56% - val_f1: 0.0030\n"
     ]
    },
    {
     "name": "stderr",
     "output_type": "stream",
     "text": [
      "                                                                                                                       \r"
     ]
    },
    {
     "name": "stdout",
     "output_type": "stream",
     "text": [
      "Epoch 5/100 16/16 [==============================] - 7s - loss: 0.6964 - accuracy: 55.28% - f1: 0.0025 ---------------------------------------------- val_loss: 0.6902 - val_accuracy: 67.81% - val_f1: 0.0032\n"
     ]
    },
    {
     "name": "stderr",
     "output_type": "stream",
     "text": [
      "                                                                                                                       \r"
     ]
    },
    {
     "name": "stdout",
     "output_type": "stream",
     "text": [
      "Epoch 6/100 16/16 [==============================] - 7s - loss: 0.6903 - accuracy: 59.81% - f1: 0.0026 ---------------------------------------------- val_loss: 0.6841 - val_accuracy: 70.85% - val_f1: 0.0022\n"
     ]
    },
    {
     "name": "stderr",
     "output_type": "stream",
     "text": [
      "                                                                                                                       \r"
     ]
    },
    {
     "name": "stdout",
     "output_type": "stream",
     "text": [
      "Epoch 7/100 16/16 [==============================] - 7s - loss: 0.6838 - accuracy: 63.71% - f1: 0.0026 ---------------------------------------------- val_loss: 0.6831 - val_accuracy: 70.41% - val_f1: 0.0019\n"
     ]
    },
    {
     "name": "stderr",
     "output_type": "stream",
     "text": [
      "                                                                                                                       \r"
     ]
    },
    {
     "name": "stdout",
     "output_type": "stream",
     "text": [
      "Epoch 8/100 16/16 [==============================] - 7s - loss: 0.6768 - accuracy: 65.85% - f1: 0.0025 ---------------------------------------------- val_loss: 0.6727 - val_accuracy: 72.83% - val_f1: 0.0020\n"
     ]
    },
    {
     "name": "stderr",
     "output_type": "stream",
     "text": [
      "                                                                                                                       \r"
     ]
    },
    {
     "name": "stdout",
     "output_type": "stream",
     "text": [
      "Epoch 9/100 16/16 [==============================] - 7s - loss: 0.6694 - accuracy: 67.01% - f1: 0.0024 ---------------------------------------------- val_loss: 0.6660 - val_accuracy: 72.91% - val_f1: 0.0019\n"
     ]
    },
    {
     "name": "stderr",
     "output_type": "stream",
     "text": [
      "                                                                                                                       \r"
     ]
    },
    {
     "name": "stdout",
     "output_type": "stream",
     "text": [
      "Epoch 10/100 16/16 [==============================] - 7s - loss: 0.6614 - accuracy: 67.72% - f1: 0.0022 ---------------------------------------------- val_loss: 0.6586 - val_accuracy: 72.97% - val_f1: 0.0018\n"
     ]
    },
    {
     "name": "stderr",
     "output_type": "stream",
     "text": [
      "                                                                                                                       \r"
     ]
    },
    {
     "name": "stdout",
     "output_type": "stream",
     "text": [
      "Epoch 11/100 16/16 [==============================] - 7s - loss: 0.6529 - accuracy: 68.18% - f1: 0.0020 ---------------------------------------------- val_loss: 0.6487 - val_accuracy: 73.00% - val_f1: 0.0017\n"
     ]
    },
    {
     "name": "stderr",
     "output_type": "stream",
     "text": [
      "                                                                                                                       \r"
     ]
    },
    {
     "name": "stdout",
     "output_type": "stream",
     "text": [
      "Epoch 12/100 16/16 [==============================] - 7s - loss: 0.6438 - accuracy: 68.44% - f1: 0.0020 ---------------------------------------------- val_loss: 0.6388 - val_accuracy: 73.01% - val_f1: 0.0017\n"
     ]
    },
    {
     "name": "stderr",
     "output_type": "stream",
     "text": [
      "                                                                                                                       \r"
     ]
    },
    {
     "name": "stdout",
     "output_type": "stream",
     "text": [
      "Epoch 13/100 16/16 [==============================] - 7s - loss: 0.6341 - accuracy: 68.58% - f1: 0.0019 ---------------------------------------------- val_loss: 0.6296 - val_accuracy: 73.03% - val_f1: 0.0017\n"
     ]
    },
    {
     "name": "stderr",
     "output_type": "stream",
     "text": [
      "                                                                                                                       \r"
     ]
    },
    {
     "name": "stdout",
     "output_type": "stream",
     "text": [
      "Epoch 14/100 16/16 [==============================] - 7s - loss: 0.6239 - accuracy: 68.65% - f1: 0.0019 ---------------------------------------------- val_loss: 0.6205 - val_accuracy: 73.04% - val_f1: 0.0017\n"
     ]
    },
    {
     "name": "stderr",
     "output_type": "stream",
     "text": [
      "                                                                                                                       \r"
     ]
    },
    {
     "name": "stdout",
     "output_type": "stream",
     "text": [
      "Epoch 15/100 16/16 [==============================] - 7s - loss: 0.6132 - accuracy: 68.72% - f1: 0.0019 ---------------------------------------------- val_loss: 0.6082 - val_accuracy: 73.07% - val_f1: 0.0017\n"
     ]
    },
    {
     "name": "stderr",
     "output_type": "stream",
     "text": [
      "                                                                                                                       \r"
     ]
    },
    {
     "name": "stdout",
     "output_type": "stream",
     "text": [
      "Epoch 16/100 16/16 [==============================] - 7s - loss: 0.6020 - accuracy: 68.88% - f1: 0.0019 ---------------------------------------------- val_loss: 0.5900 - val_accuracy: 73.21% - val_f1: 0.0017\n"
     ]
    },
    {
     "name": "stderr",
     "output_type": "stream",
     "text": [
      "                                                                                                                       \r"
     ]
    },
    {
     "name": "stdout",
     "output_type": "stream",
     "text": [
      "Epoch 17/100 16/16 [==============================] - 7s - loss: 0.5904 - accuracy: 69.10% - f1: 0.0019 ---------------------------------------------- val_loss: 0.5797 - val_accuracy: 73.49% - val_f1: 0.0018\n"
     ]
    },
    {
     "name": "stderr",
     "output_type": "stream",
     "text": [
      "                                                                                                                       \r"
     ]
    },
    {
     "name": "stdout",
     "output_type": "stream",
     "text": [
      "Epoch 18/100 16/16 [==============================] - 7s - loss: 0.5783 - accuracy: 69.52% - f1: 0.0019 ---------------------------------------------- val_loss: 0.5691 - val_accuracy: 74.25% - val_f1: 0.0019\n"
     ]
    },
    {
     "name": "stderr",
     "output_type": "stream",
     "text": [
      "                                                                                                                       \r"
     ]
    },
    {
     "name": "stdout",
     "output_type": "stream",
     "text": [
      "Epoch 19/100 16/16 [==============================] - 7s - loss: 0.5659 - accuracy: 70.04% - f1: 0.0019 ---------------------------------------------- val_loss: 0.5580 - val_accuracy: 75.35% - val_f1: 0.0018\n"
     ]
    },
    {
     "name": "stderr",
     "output_type": "stream",
     "text": [
      "                                                                                                                       \r"
     ]
    },
    {
     "name": "stdout",
     "output_type": "stream",
     "text": [
      "Epoch 20/100 16/16 [==============================] - 7s - loss: 0.5531 - accuracy: 70.57% - f1: 0.0019 ---------------------------------------------- val_loss: 0.5444 - val_accuracy: 75.36% - val_f1: 0.0017\n"
     ]
    },
    {
     "name": "stderr",
     "output_type": "stream",
     "text": [
      "                                                                                                                       \r"
     ]
    },
    {
     "name": "stdout",
     "output_type": "stream",
     "text": [
      "Epoch 21/100 16/16 [==============================] - 7s - loss: 0.5400 - accuracy: 70.80% - f1: 0.0019 ---------------------------------------------- val_loss: 0.5319 - val_accuracy: 75.36% - val_f1: 0.0017\n"
     ]
    },
    {
     "name": "stderr",
     "output_type": "stream",
     "text": [
      "                                                                                                                       \r"
     ]
    },
    {
     "name": "stdout",
     "output_type": "stream",
     "text": [
      "Epoch 22/100 16/16 [==============================] - 7s - loss: 0.5267 - accuracy: 70.90% - f1: 0.0019 ---------------------------------------------- val_loss: 0.5181 - val_accuracy: 75.36% - val_f1: 0.0017\n"
     ]
    },
    {
     "name": "stderr",
     "output_type": "stream",
     "text": [
      "                                                                                                                       \r"
     ]
    },
    {
     "name": "stdout",
     "output_type": "stream",
     "text": [
      "Epoch 23/100 16/16 [==============================] - 7s - loss: 0.5132 - accuracy: 70.94% - f1: 0.0019 ---------------------------------------------- val_loss: 0.5081 - val_accuracy: 75.37% - val_f1: 0.0017\n"
     ]
    },
    {
     "name": "stderr",
     "output_type": "stream",
     "text": [
      "                                                                                                                       \r"
     ]
    },
    {
     "name": "stdout",
     "output_type": "stream",
     "text": [
      "Epoch 24/100 16/16 [==============================] - 7s - loss: 0.4996 - accuracy: 70.97% - f1: 0.0019 ---------------------------------------------- val_loss: 0.4909 - val_accuracy: 75.38% - val_f1: 0.0017\n"
     ]
    },
    {
     "name": "stderr",
     "output_type": "stream",
     "text": [
      "                                                                                                                       \r"
     ]
    },
    {
     "name": "stdout",
     "output_type": "stream",
     "text": [
      "Epoch 25/100 16/16 [==============================] - 7s - loss: 0.4858 - accuracy: 71.01% - f1: 0.0019 ---------------------------------------------- val_loss: 0.4776 - val_accuracy: 75.41% - val_f1: 0.0017\n"
     ]
    },
    {
     "name": "stderr",
     "output_type": "stream",
     "text": [
      "                                                                                                                       \r"
     ]
    },
    {
     "name": "stdout",
     "output_type": "stream",
     "text": [
      "Epoch 26/100 16/16 [==============================] - 7s - loss: 0.4720 - accuracy: 71.15% - f1: 0.0019 ---------------------------------------------- val_loss: 0.4630 - val_accuracy: 75.55% - val_f1: 0.0017\n"
     ]
    },
    {
     "name": "stderr",
     "output_type": "stream",
     "text": [
      "                                                                                                                       \r"
     ]
    },
    {
     "name": "stdout",
     "output_type": "stream",
     "text": [
      "Epoch 27/100 16/16 [==============================] - 7s - loss: 0.4582 - accuracy: 71.56% - f1: 0.0019 ---------------------------------------------- val_loss: 0.4480 - val_accuracy: 76.21% - val_f1: 0.0018\n"
     ]
    },
    {
     "name": "stderr",
     "output_type": "stream",
     "text": [
      "                                                                                                                       \r"
     ]
    },
    {
     "name": "stdout",
     "output_type": "stream",
     "text": [
      "Epoch 28/100 16/16 [==============================] - 7s - loss: 0.4444 - accuracy: 72.16% - f1: 0.0018 ---------------------------------------------- val_loss: 0.4344 - val_accuracy: 77.37% - val_f1: 0.0018\n"
     ]
    },
    {
     "name": "stderr",
     "output_type": "stream",
     "text": [
      "                                                                                                                       \r"
     ]
    },
    {
     "name": "stdout",
     "output_type": "stream",
     "text": [
      "Epoch 29/100 16/16 [==============================] - 7s - loss: 0.4306 - accuracy: 72.82% - f1: 0.0017 ---------------------------------------------- val_loss: 0.4212 - val_accuracy: 77.72% - val_f1: 0.0010\n"
     ]
    },
    {
     "name": "stderr",
     "output_type": "stream",
     "text": [
      "                                                                                                                       \r"
     ]
    },
    {
     "name": "stdout",
     "output_type": "stream",
     "text": [
      "Epoch 30/100 16/16 [==============================] - 7s - loss: 0.4170 - accuracy: 73.12% - f1: 0.0013 ---------------------------------------------- val_loss: 0.4093 - val_accuracy: 77.73% - val_f1: 0.0008\n"
     ]
    },
    {
     "name": "stderr",
     "output_type": "stream",
     "text": [
      "                                                                                                                       \r"
     ]
    },
    {
     "name": "stdout",
     "output_type": "stream",
     "text": [
      "Epoch 31/100 16/16 [==============================] - 7s - loss: 0.4035 - accuracy: 73.21% - f1: 0.0010 ---------------------------------------------- val_loss: 0.3958 - val_accuracy: 77.73% - val_f1: 0.0007\n"
     ]
    },
    {
     "name": "stderr",
     "output_type": "stream",
     "text": [
      "                                                                                                                       \r"
     ]
    },
    {
     "name": "stdout",
     "output_type": "stream",
     "text": [
      "Epoch 32/100 16/16 [==============================] - 7s - loss: 0.3902 - accuracy: 73.23% - f1: 0.0007 ---------------------------------------------- val_loss: 0.3818 - val_accuracy: 77.73% - val_f1: 0.0006\n"
     ]
    },
    {
     "name": "stderr",
     "output_type": "stream",
     "text": [
      "                                                                                                                       \r"
     ]
    },
    {
     "name": "stdout",
     "output_type": "stream",
     "text": [
      "Epoch 33/100 16/16 [==============================] - 7s - loss: 0.3770 - accuracy: 73.24% - f1: 0.0006 ---------------------------------------------- val_loss: 0.3676 - val_accuracy: 77.74% - val_f1: 0.0005\n"
     ]
    },
    {
     "name": "stderr",
     "output_type": "stream",
     "text": [
      "                                                                                                                       \r"
     ]
    },
    {
     "name": "stdout",
     "output_type": "stream",
     "text": [
      "Epoch 34/100 16/16 [==============================] - 7s - loss: 0.3641 - accuracy: 73.25% - f1: 0.0005 ---------------------------------------------- val_loss: 0.3573 - val_accuracy: 77.75% - val_f1: 0.0004\n"
     ]
    },
    {
     "name": "stderr",
     "output_type": "stream",
     "text": [
      "                                                                                                                       \r"
     ]
    },
    {
     "name": "stdout",
     "output_type": "stream",
     "text": [
      "Epoch 35/100 16/16 [==============================] - 7s - loss: 0.3515 - accuracy: 73.26% - f1: 0.0004 ---------------------------------------------- val_loss: 0.3428 - val_accuracy: 77.77% - val_f1: 0.0003\n"
     ]
    },
    {
     "name": "stderr",
     "output_type": "stream",
     "text": [
      "                                                                                                                       \r"
     ]
    },
    {
     "name": "stdout",
     "output_type": "stream",
     "text": [
      "Epoch 36/100 16/16 [==============================] - 7s - loss: 0.3391 - accuracy: 73.27% - f1: 0.0003 ---------------------------------------------- val_loss: 0.3312 - val_accuracy: 77.77% - val_f1: 0.0003\n"
     ]
    },
    {
     "name": "stderr",
     "output_type": "stream",
     "text": [
      "                                                                                                                       \r"
     ]
    },
    {
     "name": "stdout",
     "output_type": "stream",
     "text": [
      "Epoch 37/100 16/16 [==============================] - 7s - loss: 0.3270 - accuracy: 73.27% - f1: 0.0003 ---------------------------------------------- val_loss: 0.3188 - val_accuracy: 77.77% - val_f1: 0.0003\n"
     ]
    },
    {
     "name": "stderr",
     "output_type": "stream",
     "text": [
      "                                                                                                                       \r"
     ]
    },
    {
     "name": "stdout",
     "output_type": "stream",
     "text": [
      "Epoch 38/100 16/16 [==============================] - 7s - loss: 0.3152 - accuracy: 73.27% - f1: 0.0003 ---------------------------------------------- val_loss: 0.3075 - val_accuracy: 77.77% - val_f1: 0.0003\n"
     ]
    },
    {
     "name": "stderr",
     "output_type": "stream",
     "text": [
      "                                                                                                                       \r"
     ]
    },
    {
     "name": "stdout",
     "output_type": "stream",
     "text": [
      "Epoch 39/100 16/16 [==============================] - 7s - loss: 0.3038 - accuracy: 73.27% - f1: 0.0002 ---------------------------------------------- val_loss: 0.2971 - val_accuracy: 77.77% - val_f1: 0.0001\n"
     ]
    },
    {
     "name": "stderr",
     "output_type": "stream",
     "text": [
      "                                                                                                                       \r"
     ]
    },
    {
     "name": "stdout",
     "output_type": "stream",
     "text": [
      "Epoch 40/100 16/16 [==============================] - 7s - loss: 0.2926 - accuracy: 73.28% - f1: 0.0001 ---------------------------------------------- val_loss: 0.2847 - val_accuracy: 77.78% - val_f1: 0.0000\n"
     ]
    },
    {
     "name": "stderr",
     "output_type": "stream",
     "text": [
      "                                                                                                                       \r"
     ]
    },
    {
     "name": "stdout",
     "output_type": "stream",
     "text": [
      "Epoch 41/100 16/16 [==============================] - 7s - loss: 0.2818 - accuracy: 73.28% - f1: 0.0001 ---------------------------------------------- val_loss: 0.2760 - val_accuracy: 77.78% - val_f1: 0.0000\n"
     ]
    },
    {
     "name": "stderr",
     "output_type": "stream",
     "text": [
      "                                                                                                                       \r"
     ]
    },
    {
     "name": "stdout",
     "output_type": "stream",
     "text": [
      "Epoch 42/100 16/16 [==============================] - 7s - loss: 0.2713 - accuracy: 73.29% - f1: 0.0000 ---------------------------------------------- val_loss: 0.2641 - val_accuracy: 77.79% - val_f1: 0.0000\n"
     ]
    },
    {
     "name": "stderr",
     "output_type": "stream",
     "text": [
      "                                                                                                                       \r"
     ]
    },
    {
     "name": "stdout",
     "output_type": "stream",
     "text": [
      "Epoch 43/100 16/16 [==============================] - 7s - loss: 0.2612 - accuracy: 73.29% - f1: 0.0000 ---------------------------------------------- val_loss: 0.2548 - val_accuracy: 77.79% - val_f1: 0.0000\n"
     ]
    },
    {
     "name": "stderr",
     "output_type": "stream",
     "text": [
      "                                                                                                                       \r"
     ]
    },
    {
     "name": "stdout",
     "output_type": "stream",
     "text": [
      "Epoch 44/100 16/16 [==============================] - 7s - loss: 0.2514 - accuracy: 73.29% - f1: 0.0000 ---------------------------------------------- val_loss: 0.2452 - val_accuracy: 77.79% - val_f1: 0.0000\n"
     ]
    },
    {
     "name": "stderr",
     "output_type": "stream",
     "text": [
      "                                                                                                                       \r"
     ]
    },
    {
     "name": "stdout",
     "output_type": "stream",
     "text": [
      "Epoch 45/100 16/16 [==============================] - 7s - loss: 0.2420 - accuracy: 73.29% - f1: 0.0000 ---------------------------------------------- val_loss: 0.2358 - val_accuracy: 77.79% - val_f1: 0.0000\n"
     ]
    },
    {
     "name": "stderr",
     "output_type": "stream",
     "text": [
      "                                                                                                                       \r"
     ]
    },
    {
     "name": "stdout",
     "output_type": "stream",
     "text": [
      "Epoch 46/100 16/16 [==============================] - 7s - loss: 0.2329 - accuracy: 73.29% - f1: 0.0000 ---------------------------------------------- val_loss: 0.2265 - val_accuracy: 77.79% - val_f1: 0.0000\n"
     ]
    },
    {
     "name": "stderr",
     "output_type": "stream",
     "text": [
      "                                                                                                                       \r"
     ]
    },
    {
     "name": "stdout",
     "output_type": "stream",
     "text": [
      "Epoch 47/100 16/16 [==============================] - 7s - loss: 0.2241 - accuracy: 73.29% - f1: 0.0000 ---------------------------------------------- val_loss: 0.2182 - val_accuracy: 77.79% - val_f1: 0.0000\n"
     ]
    },
    {
     "name": "stderr",
     "output_type": "stream",
     "text": [
      "                                                                                                                       \r"
     ]
    },
    {
     "name": "stdout",
     "output_type": "stream",
     "text": [
      "Epoch 48/100 16/16 [==============================] - 7s - loss: 0.2157 - accuracy: 73.29% - f1: 0.0000 ---------------------------------------------- val_loss: 0.2100 - val_accuracy: 77.79% - val_f1: 0.0000\n"
     ]
    },
    {
     "name": "stderr",
     "output_type": "stream",
     "text": [
      "                                                                                                                       \r"
     ]
    },
    {
     "name": "stdout",
     "output_type": "stream",
     "text": [
      "Epoch 49/100 16/16 [==============================] - 7s - loss: 0.2076 - accuracy: 73.29% - f1: 0.0000 ---------------------------------------------- val_loss: 0.2023 - val_accuracy: 77.79% - val_f1: 0.0000\n"
     ]
    },
    {
     "name": "stderr",
     "output_type": "stream",
     "text": [
      "                                                                                                                       \r"
     ]
    },
    {
     "name": "stdout",
     "output_type": "stream",
     "text": [
      "Epoch 50/100 16/16 [==============================] - 7s - loss: 0.1998 - accuracy: 73.29% - f1: 0.0000 ---------------------------------------------- val_loss: 0.1950 - val_accuracy: 77.79% - val_f1: 0.0000\n"
     ]
    },
    {
     "name": "stderr",
     "output_type": "stream",
     "text": [
      "                                                                                                                       \r"
     ]
    },
    {
     "name": "stdout",
     "output_type": "stream",
     "text": [
      "Epoch 51/100 16/16 [==============================] - 7s - loss: 0.1923 - accuracy: 73.29% - f1: 0.0000 ---------------------------------------------- val_loss: 0.1877 - val_accuracy: 77.79% - val_f1: 0.0000\n"
     ]
    },
    {
     "name": "stderr",
     "output_type": "stream",
     "text": [
      "                                                                                                                       \r"
     ]
    },
    {
     "name": "stdout",
     "output_type": "stream",
     "text": [
      "Epoch 52/100 16/16 [==============================] - 7s - loss: 0.1851 - accuracy: 73.29% - f1: 0.0000 ---------------------------------------------- val_loss: 0.1805 - val_accuracy: 77.79% - val_f1: 0.0000\n"
     ]
    },
    {
     "name": "stderr",
     "output_type": "stream",
     "text": [
      "                                                                                                                       \r"
     ]
    },
    {
     "name": "stdout",
     "output_type": "stream",
     "text": [
      "Epoch 53/100 16/16 [==============================] - 7s - loss: 0.1783 - accuracy: 73.29% - f1: 0.0000 ---------------------------------------------- val_loss: 0.1736 - val_accuracy: 77.79% - val_f1: 0.0000\n"
     ]
    },
    {
     "name": "stderr",
     "output_type": "stream",
     "text": [
      "                                                                                                                       \r"
     ]
    },
    {
     "name": "stdout",
     "output_type": "stream",
     "text": [
      "Epoch 54/100 16/16 [==============================] - 7s - loss: 0.1717 - accuracy: 73.29% - f1: 0.0000 ---------------------------------------------- val_loss: 0.1674 - val_accuracy: 77.79% - val_f1: 0.0000\n"
     ]
    },
    {
     "name": "stderr",
     "output_type": "stream",
     "text": [
      "                                                                                                                       \r"
     ]
    },
    {
     "name": "stdout",
     "output_type": "stream",
     "text": [
      "Epoch 55/100 16/16 [==============================] - 7s - loss: 0.1653 - accuracy: 73.29% - f1: 0.0000 ---------------------------------------------- val_loss: 0.1614 - val_accuracy: 77.79% - val_f1: 0.0000\n"
     ]
    },
    {
     "name": "stderr",
     "output_type": "stream",
     "text": [
      "                                                                                                                       \r"
     ]
    },
    {
     "name": "stdout",
     "output_type": "stream",
     "text": [
      "Epoch 56/100 16/16 [==============================] - 7s - loss: 0.1593 - accuracy: 73.29% - f1: 0.0000 ---------------------------------------------- val_loss: 0.1552 - val_accuracy: 77.79% - val_f1: 0.0000\n"
     ]
    },
    {
     "name": "stderr",
     "output_type": "stream",
     "text": [
      "                                                                                                                       \r"
     ]
    },
    {
     "name": "stdout",
     "output_type": "stream",
     "text": [
      "Epoch 57/100 16/16 [==============================] - 7s - loss: 0.1535 - accuracy: 73.29% - f1: 0.0000 ---------------------------------------------- val_loss: 0.1496 - val_accuracy: 77.79% - val_f1: 0.0000\n"
     ]
    },
    {
     "name": "stderr",
     "output_type": "stream",
     "text": [
      "                                                                                                                       \r"
     ]
    },
    {
     "name": "stdout",
     "output_type": "stream",
     "text": [
      "Epoch 58/100 16/16 [==============================] - 7s - loss: 0.1480 - accuracy: 73.29% - f1: 0.0000 ---------------------------------------------- val_loss: 0.1436 - val_accuracy: 77.79% - val_f1: 0.0000\n"
     ]
    },
    {
     "name": "stderr",
     "output_type": "stream",
     "text": [
      "                                                                                                                       \r"
     ]
    },
    {
     "name": "stdout",
     "output_type": "stream",
     "text": [
      "Epoch 59/100 16/16 [==============================] - 7s - loss: 0.1427 - accuracy: 73.29% - f1: 0.0000 ---------------------------------------------- val_loss: 0.1393 - val_accuracy: 77.79% - val_f1: 0.0000\n"
     ]
    },
    {
     "name": "stderr",
     "output_type": "stream",
     "text": [
      "                                                                                                                       \r"
     ]
    },
    {
     "name": "stdout",
     "output_type": "stream",
     "text": [
      "Epoch 60/100 16/16 [==============================] - 7s - loss: 0.1376 - accuracy: 73.29% - f1: 0.0000 ---------------------------------------------- val_loss: 0.1340 - val_accuracy: 77.79% - val_f1: 0.0000\n"
     ]
    },
    {
     "name": "stderr",
     "output_type": "stream",
     "text": [
      "                                                                                                                       \r"
     ]
    },
    {
     "name": "stdout",
     "output_type": "stream",
     "text": [
      "Epoch 61/100 16/16 [==============================] - 7s - loss: 0.1327 - accuracy: 73.29% - f1: 0.0000 ---------------------------------------------- val_loss: 0.1294 - val_accuracy: 77.79% - val_f1: 0.0000\n"
     ]
    },
    {
     "name": "stderr",
     "output_type": "stream",
     "text": [
      "                                                                                                                       \r"
     ]
    },
    {
     "name": "stdout",
     "output_type": "stream",
     "text": [
      "Epoch 62/100 16/16 [==============================] - 7s - loss: 0.1281 - accuracy: 73.29% - f1: 0.0000 ---------------------------------------------- val_loss: 0.1244 - val_accuracy: 77.79% - val_f1: 0.0000\n"
     ]
    },
    {
     "name": "stderr",
     "output_type": "stream",
     "text": [
      "                                                                                                                       \r"
     ]
    },
    {
     "name": "stdout",
     "output_type": "stream",
     "text": [
      "Epoch 63/100 16/16 [==============================] - 7s - loss: 0.1236 - accuracy: 73.29% - f1: 0.0000 ---------------------------------------------- val_loss: 0.1200 - val_accuracy: 77.79% - val_f1: 0.0000\n"
     ]
    },
    {
     "name": "stderr",
     "output_type": "stream",
     "text": [
      "                                                                                                                       \r"
     ]
    },
    {
     "name": "stdout",
     "output_type": "stream",
     "text": [
      "Epoch 64/100 16/16 [==============================] - 7s - loss: 0.1194 - accuracy: 73.29% - f1: 0.0000 ---------------------------------------------- val_loss: 0.1162 - val_accuracy: 77.79% - val_f1: 0.0000\n"
     ]
    },
    {
     "name": "stderr",
     "output_type": "stream",
     "text": [
      "                                                                                                                       \r"
     ]
    },
    {
     "name": "stdout",
     "output_type": "stream",
     "text": [
      "Epoch 65/100 16/16 [==============================] - 7s - loss: 0.1153 - accuracy: 73.29% - f1: 0.0000 ---------------------------------------------- val_loss: 0.1122 - val_accuracy: 77.79% - val_f1: 0.0000\n"
     ]
    },
    {
     "name": "stderr",
     "output_type": "stream",
     "text": [
      "                                                                                                                       \r"
     ]
    },
    {
     "name": "stdout",
     "output_type": "stream",
     "text": [
      "Epoch 66/100 16/16 [==============================] - 7s - loss: 0.1114 - accuracy: 73.29% - f1: 0.0000 ---------------------------------------------- val_loss: 0.1083 - val_accuracy: 77.79% - val_f1: 0.0000\n"
     ]
    },
    {
     "name": "stderr",
     "output_type": "stream",
     "text": [
      "                                                                                                                       \r"
     ]
    },
    {
     "name": "stdout",
     "output_type": "stream",
     "text": [
      "Epoch 67/100 16/16 [==============================] - 7s - loss: 0.1077 - accuracy: 73.29% - f1: 0.0000 ---------------------------------------------- val_loss: 0.1046 - val_accuracy: 77.79% - val_f1: 0.0000\n"
     ]
    },
    {
     "name": "stderr",
     "output_type": "stream",
     "text": [
      "                                                                                                                       \r"
     ]
    },
    {
     "name": "stdout",
     "output_type": "stream",
     "text": [
      "Epoch 68/100 16/16 [==============================] - 7s - loss: 0.1041 - accuracy: 73.29% - f1: 0.0000 ---------------------------------------------- val_loss: 0.1012 - val_accuracy: 77.79% - val_f1: 0.0000\n"
     ]
    },
    {
     "name": "stderr",
     "output_type": "stream",
     "text": [
      "                                                                                                                       \r"
     ]
    },
    {
     "name": "stdout",
     "output_type": "stream",
     "text": [
      "Epoch 69/100 16/16 [==============================] - 7s - loss: 0.1007 - accuracy: 73.29% - f1: 0.0000 ---------------------------------------------- val_loss: 0.0982 - val_accuracy: 77.79% - val_f1: 0.0000\n"
     ]
    },
    {
     "name": "stderr",
     "output_type": "stream",
     "text": [
      "                                                                                                                       \r"
     ]
    },
    {
     "name": "stdout",
     "output_type": "stream",
     "text": [
      "Epoch 70/100 16/16 [==============================] - 7s - loss: 0.0974 - accuracy: 73.29% - f1: 0.0000 ---------------------------------------------- val_loss: 0.0951 - val_accuracy: 77.79% - val_f1: 0.0000\n"
     ]
    },
    {
     "name": "stderr",
     "output_type": "stream",
     "text": [
      "                                                                                                                       \r"
     ]
    },
    {
     "name": "stdout",
     "output_type": "stream",
     "text": [
      "Epoch 71/100 16/16 [==============================] - 7s - loss: 0.0943 - accuracy: 73.29% - f1: 0.0000 ---------------------------------------------- val_loss: 0.0921 - val_accuracy: 77.79% - val_f1: 0.0000\n"
     ]
    },
    {
     "name": "stderr",
     "output_type": "stream",
     "text": [
      "                                                                                                                       \r"
     ]
    },
    {
     "name": "stdout",
     "output_type": "stream",
     "text": [
      "Epoch 72/100 16/16 [==============================] - 7s - loss: 0.0913 - accuracy: 73.29% - f1: 0.0000 ---------------------------------------------- val_loss: 0.0889 - val_accuracy: 77.79% - val_f1: 0.0000\n"
     ]
    },
    {
     "name": "stderr",
     "output_type": "stream",
     "text": [
      "                                                                                                                       \r"
     ]
    },
    {
     "name": "stdout",
     "output_type": "stream",
     "text": [
      "Epoch 73/100 16/16 [==============================] - 7s - loss: 0.0884 - accuracy: 73.29% - f1: 0.0000 ---------------------------------------------- val_loss: 0.0860 - val_accuracy: 77.79% - val_f1: 0.0000\n"
     ]
    },
    {
     "name": "stderr",
     "output_type": "stream",
     "text": [
      "                                                                                                                       \r"
     ]
    },
    {
     "name": "stdout",
     "output_type": "stream",
     "text": [
      "Epoch 74/100 16/16 [==============================] - 7s - loss: 0.0857 - accuracy: 73.29% - f1: 0.0000 ---------------------------------------------- val_loss: 0.0835 - val_accuracy: 77.79% - val_f1: 0.0000\n"
     ]
    },
    {
     "name": "stderr",
     "output_type": "stream",
     "text": [
      "                                                                                                                       \r"
     ]
    },
    {
     "name": "stdout",
     "output_type": "stream",
     "text": [
      "Epoch 75/100 16/16 [==============================] - 7s - loss: 0.0830 - accuracy: 73.29% - f1: 0.0000 ---------------------------------------------- val_loss: 0.0808 - val_accuracy: 77.79% - val_f1: 0.0000\n"
     ]
    },
    {
     "name": "stderr",
     "output_type": "stream",
     "text": [
      "                                                                                                                       \r"
     ]
    },
    {
     "name": "stdout",
     "output_type": "stream",
     "text": [
      "Epoch 76/100 16/16 [==============================] - 7s - loss: 0.0805 - accuracy: 73.29% - f1: 0.0000 ---------------------------------------------- val_loss: 0.0786 - val_accuracy: 77.79% - val_f1: 0.0000\n"
     ]
    },
    {
     "name": "stderr",
     "output_type": "stream",
     "text": [
      "                                                                                                                       \r"
     ]
    },
    {
     "name": "stdout",
     "output_type": "stream",
     "text": [
      "Epoch 77/100 16/16 [==============================] - 7s - loss: 0.0781 - accuracy: 73.29% - f1: 0.0000 ---------------------------------------------- val_loss: 0.0763 - val_accuracy: 77.79% - val_f1: 0.0000\n"
     ]
    },
    {
     "name": "stderr",
     "output_type": "stream",
     "text": [
      "                                                                                                                       \r"
     ]
    },
    {
     "name": "stdout",
     "output_type": "stream",
     "text": [
      "Epoch 78/100 16/16 [==============================] - 7s - loss: 0.0757 - accuracy: 73.29% - f1: 0.0000 ---------------------------------------------- val_loss: 0.0735 - val_accuracy: 77.79% - val_f1: 0.0000\n"
     ]
    },
    {
     "name": "stderr",
     "output_type": "stream",
     "text": [
      "                                                                                                                       \r"
     ]
    },
    {
     "name": "stdout",
     "output_type": "stream",
     "text": [
      "Epoch 79/100 16/16 [==============================] - 7s - loss: 0.0735 - accuracy: 73.29% - f1: 0.0000 ---------------------------------------------- val_loss: 0.0713 - val_accuracy: 77.79% - val_f1: 0.0000\n"
     ]
    },
    {
     "name": "stderr",
     "output_type": "stream",
     "text": [
      "                                                                                                                       \r"
     ]
    },
    {
     "name": "stdout",
     "output_type": "stream",
     "text": [
      "Epoch 80/100 16/16 [==============================] - 7s - loss: 0.0714 - accuracy: 73.29% - f1: 0.0000 ---------------------------------------------- val_loss: 0.0692 - val_accuracy: 77.79% - val_f1: 0.0000\n"
     ]
    },
    {
     "name": "stderr",
     "output_type": "stream",
     "text": [
      "                                                                                                                       \r"
     ]
    },
    {
     "name": "stdout",
     "output_type": "stream",
     "text": [
      "Epoch 81/100 16/16 [==============================] - 7s - loss: 0.0693 - accuracy: 73.29% - f1: 0.0000 ---------------------------------------------- val_loss: 0.0675 - val_accuracy: 77.79% - val_f1: 0.0000\n"
     ]
    },
    {
     "name": "stderr",
     "output_type": "stream",
     "text": [
      "                                                                                                                       \r"
     ]
    },
    {
     "name": "stdout",
     "output_type": "stream",
     "text": [
      "Epoch 82/100 16/16 [==============================] - 7s - loss: 0.0674 - accuracy: 73.29% - f1: 0.0000 ---------------------------------------------- val_loss: 0.0655 - val_accuracy: 77.79% - val_f1: 0.0000\n"
     ]
    },
    {
     "name": "stderr",
     "output_type": "stream",
     "text": [
      "                                                                                                                       \r"
     ]
    },
    {
     "name": "stdout",
     "output_type": "stream",
     "text": [
      "Epoch 83/100 16/16 [==============================] - 7s - loss: 0.0655 - accuracy: 73.29% - f1: 0.0000 ---------------------------------------------- val_loss: 0.0635 - val_accuracy: 77.79% - val_f1: 0.0000\n"
     ]
    },
    {
     "name": "stderr",
     "output_type": "stream",
     "text": [
      "                                                                                                                       \r"
     ]
    },
    {
     "name": "stdout",
     "output_type": "stream",
     "text": [
      "Epoch 84/100 16/16 [==============================] - 7s - loss: 0.0636 - accuracy: 73.29% - f1: 0.0000 ---------------------------------------------- val_loss: 0.0619 - val_accuracy: 77.79% - val_f1: 0.0000\n"
     ]
    },
    {
     "name": "stderr",
     "output_type": "stream",
     "text": [
      "                                                                                                                       \r"
     ]
    },
    {
     "name": "stdout",
     "output_type": "stream",
     "text": [
      "Epoch 85/100 16/16 [==============================] - 7s - loss: 0.0619 - accuracy: 73.29% - f1: 0.0000 ---------------------------------------------- val_loss: 0.0600 - val_accuracy: 77.79% - val_f1: 0.0000\n"
     ]
    },
    {
     "name": "stderr",
     "output_type": "stream",
     "text": [
      "                                                                                                                       \r"
     ]
    },
    {
     "name": "stdout",
     "output_type": "stream",
     "text": [
      "Epoch 86/100 16/16 [==============================] - 7s - loss: 0.0602 - accuracy: 73.29% - f1: 0.0000 ---------------------------------------------- val_loss: 0.0582 - val_accuracy: 77.79% - val_f1: 0.0000\n"
     ]
    },
    {
     "name": "stderr",
     "output_type": "stream",
     "text": [
      "                                                                                                                       \r"
     ]
    },
    {
     "name": "stdout",
     "output_type": "stream",
     "text": [
      "Epoch 87/100 16/16 [==============================] - 7s - loss: 0.0586 - accuracy: 73.29% - f1: 0.0000 ---------------------------------------------- val_loss: 0.0568 - val_accuracy: 77.79% - val_f1: 0.0000\n"
     ]
    },
    {
     "name": "stderr",
     "output_type": "stream",
     "text": [
      "                                                                                                                       \r"
     ]
    },
    {
     "name": "stdout",
     "output_type": "stream",
     "text": [
      "Epoch 88/100 16/16 [==============================] - 7s - loss: 0.0571 - accuracy: 73.29% - f1: 0.0000 ---------------------------------------------- val_loss: 0.0554 - val_accuracy: 77.79% - val_f1: 0.0000\n"
     ]
    },
    {
     "name": "stderr",
     "output_type": "stream",
     "text": [
      "                                                                                                                       \r"
     ]
    },
    {
     "name": "stdout",
     "output_type": "stream",
     "text": [
      "Epoch 89/100 16/16 [==============================] - 7s - loss: 0.0556 - accuracy: 73.29% - f1: 0.0000 ---------------------------------------------- val_loss: 0.0537 - val_accuracy: 77.79% - val_f1: 0.0000\n"
     ]
    },
    {
     "name": "stderr",
     "output_type": "stream",
     "text": [
      "                                                                                                                       \r"
     ]
    },
    {
     "name": "stdout",
     "output_type": "stream",
     "text": [
      "Epoch 90/100 16/16 [==============================] - 7s - loss: 0.0541 - accuracy: 73.29% - f1: 0.0000 ---------------------------------------------- val_loss: 0.0525 - val_accuracy: 77.79% - val_f1: 0.0000\n"
     ]
    },
    {
     "name": "stderr",
     "output_type": "stream",
     "text": [
      "                                                                                                                       \r"
     ]
    },
    {
     "name": "stdout",
     "output_type": "stream",
     "text": [
      "Epoch 91/100 16/16 [==============================] - 7s - loss: 0.0527 - accuracy: 73.29% - f1: 0.0000 ---------------------------------------------- val_loss: 0.0512 - val_accuracy: 77.79% - val_f1: 0.0000\n"
     ]
    },
    {
     "name": "stderr",
     "output_type": "stream",
     "text": [
      "                                                                                                                       \r"
     ]
    },
    {
     "name": "stdout",
     "output_type": "stream",
     "text": [
      "Epoch 92/100 16/16 [==============================] - 7s - loss: 0.0514 - accuracy: 73.29% - f1: 0.0000 ---------------------------------------------- val_loss: 0.0498 - val_accuracy: 77.79% - val_f1: 0.0000\n"
     ]
    },
    {
     "name": "stderr",
     "output_type": "stream",
     "text": [
      "                                                                                                                       \r"
     ]
    },
    {
     "name": "stdout",
     "output_type": "stream",
     "text": [
      "Epoch 93/100 16/16 [==============================] - 7s - loss: 0.0501 - accuracy: 73.29% - f1: 0.0000 ---------------------------------------------- val_loss: 0.0488 - val_accuracy: 77.79% - val_f1: 0.0000\n"
     ]
    },
    {
     "name": "stderr",
     "output_type": "stream",
     "text": [
      "                                                                                                                       \r"
     ]
    },
    {
     "name": "stdout",
     "output_type": "stream",
     "text": [
      "Epoch 94/100 16/16 [==============================] - 7s - loss: 0.0489 - accuracy: 73.29% - f1: 0.0000 ---------------------------------------------- val_loss: 0.0472 - val_accuracy: 77.79% - val_f1: 0.0000\n"
     ]
    },
    {
     "name": "stderr",
     "output_type": "stream",
     "text": [
      "                                                                                                                       \r"
     ]
    },
    {
     "name": "stdout",
     "output_type": "stream",
     "text": [
      "Epoch 95/100 16/16 [==============================] - 7s - loss: 0.0477 - accuracy: 73.29% - f1: 0.0000 ---------------------------------------------- val_loss: 0.0461 - val_accuracy: 77.79% - val_f1: 0.0000\n"
     ]
    },
    {
     "name": "stderr",
     "output_type": "stream",
     "text": [
      "                                                                                                                       \r"
     ]
    },
    {
     "name": "stdout",
     "output_type": "stream",
     "text": [
      "Epoch 96/100 16/16 [==============================] - 7s - loss: 0.0466 - accuracy: 73.29% - f1: 0.0000 ---------------------------------------------- val_loss: 0.0450 - val_accuracy: 77.79% - val_f1: 0.0000\n"
     ]
    },
    {
     "name": "stderr",
     "output_type": "stream",
     "text": [
      "                                                                                                                       \r"
     ]
    },
    {
     "name": "stdout",
     "output_type": "stream",
     "text": [
      "Epoch 97/100 16/16 [==============================] - 7s - loss: 0.0454 - accuracy: 73.29% - f1: 0.0000 ---------------------------------------------- val_loss: 0.0440 - val_accuracy: 77.79% - val_f1: 0.0000\n"
     ]
    },
    {
     "name": "stderr",
     "output_type": "stream",
     "text": [
      "                                                                                                                       \r"
     ]
    },
    {
     "name": "stdout",
     "output_type": "stream",
     "text": [
      "Epoch 98/100 16/16 [==============================] - 7s - loss: 0.0444 - accuracy: 73.29% - f1: 0.0000 ---------------------------------------------- val_loss: 0.0428 - val_accuracy: 77.79% - val_f1: 0.0000\n"
     ]
    },
    {
     "name": "stderr",
     "output_type": "stream",
     "text": [
      "                                                                                                                       \r"
     ]
    },
    {
     "name": "stdout",
     "output_type": "stream",
     "text": [
      "Epoch 99/100 16/16 [==============================] - 7s - loss: 0.0434 - accuracy: 73.29% - f1: 0.0000 ---------------------------------------------- val_loss: 0.0421 - val_accuracy: 77.79% - val_f1: 0.0000\n"
     ]
    },
    {
     "name": "stderr",
     "output_type": "stream",
     "text": [
      "                                                                                                                       \r"
     ]
    },
    {
     "name": "stdout",
     "output_type": "stream",
     "text": [
      "Epoch 100/100 16/16 [==============================] - 7s - loss: 0.0424 - accuracy: 73.29% - f1: 0.0000 ---------------------------------------------- val_loss: 0.0408 - val_accuracy: 77.79% - val_f1: 0.0000\n"
     ]
    },
    {
     "data": {
      "image/png": "[encoded data removed]",
      "text/plain": [
       "<Figure size 1000x1500 with 3 Axes>"
      ]
     },
     "metadata": {},
     "output_type": "display_data"
    }
   ],
   "source": [
    "# Early Stopping Class\n",
    "class EarlyStopping:\n",
    "    def __init__(self, patience=10, path='D:/Mohamed Sheriff/Projects/Computer Vision Internship - Cellula Technologies/Water Segementation/Model/torch_9channels.pth'):\n",
    "        self.patience = patience\n",
    "        self.best_loss = None\n",
    "        self.counter = 0\n",
    "        self.early_stop = False\n",
    "        self.path = path\n",
    "\n",
    "    def __call__(self, val_loss, model):\n",
    "        if self.best_loss is None or val_loss < self.best_loss:\n",
    "            self.best_loss = val_loss\n",
    "            self.counter = 0\n",
    "            torch.save(model.state_dict(), self.path)\n",
    "        else:\n",
    "            self.counter += 1\n",
    "            if self.counter >= self.patience:\n",
    "                self.early_stop = True\n",
    "                \n",
    "def binary_accuracy(preds, targets):\n",
    "    \"\"\"\n",
    "    Computes binary accuracy by converting predictions to 0 or 1 based on a threshold of 0.5.\n",
    "    \"\"\"\n",
    "    preds = torch.round(preds)  # Apply threshold of 0.5 to output probabilities\n",
    "    correct = (preds == targets).float()  # Convert to float for division\n",
    "    acc = correct.sum() / correct.numel()  # Calculate mean accuracy across all samples\n",
    "    return acc\n",
    "\n",
    "def train_model(model, train_loader, val_loader, criterion, optimizer, num_epochs, patience, model_path, device):\n",
    "    early_stopping = EarlyStopping(patience=patience, path=model_path)\n",
    "\n",
    "    # Initialize history dictionary\n",
    "    history = {'train_loss': [], 'train_acc': [], 'train_f1': [], 'val_loss': [], 'val_acc': [], 'val_f1': []}\n",
    "\n",
    "    for epoch in range(1, num_epochs + 1):\n",
    "        start_time = time.time()\n",
    "\n",
    "        # Training Phase\n",
    "        model.train()\n",
    "        running_loss = 0.0\n",
    "        running_corrects = 0\n",
    "        running_f1 = 0.0\n",
    "        total_train_samples = 0\n",
    "\n",
    "        for inputs, targets in tqdm(train_loader, desc=f'Epoch {epoch}/{num_epochs}', leave=False):\n",
    "            inputs, targets = inputs.to(device), targets.to(device)\n",
    "\n",
    "            optimizer.zero_grad()\n",
    "            outputs = model(inputs)\n",
    "            loss = criterion(outputs, targets)\n",
    "            loss.backward()\n",
    "            optimizer.step()\n",
    "\n",
    "            running_loss += loss.item() * inputs.size(0)\n",
    "            total_train_samples += targets.size(0)\n",
    "\n",
    "            # Calculate accuracy and F1 score for training\n",
    "            acc = binary_accuracy(outputs, targets)\n",
    "            running_corrects += acc.item() * inputs.size(0)\n",
    "\n",
    "            f1 = f1_score(outputs, targets)\n",
    "            running_f1 += f1.item() * inputs.size(0)\n",
    "\n",
    "        epoch_loss = running_loss / total_train_samples\n",
    "        epoch_acc = running_corrects / total_train_samples\n",
    "        epoch_f1 = running_f1 / total_train_samples\n",
    "\n",
    "        # Store metrics for the epoch\n",
    "        history['train_loss'].append(epoch_loss)\n",
    "        history['train_acc'].append(epoch_acc)\n",
    "        history['train_f1'].append(epoch_f1)\n",
    "\n",
    "        # Validation Phase\n",
    "        model.eval()\n",
    "        val_loss = 0.0\n",
    "        val_corrects = 0\n",
    "        val_f1 = 0.0\n",
    "        total_val_samples = 0\n",
    "\n",
    "        with torch.no_grad():\n",
    "            for inputs, targets in val_loader:\n",
    "                inputs, targets = inputs.to(device), targets.to(device)\n",
    "                outputs = model(inputs)\n",
    "                loss = criterion(outputs, targets)\n",
    "\n",
    "                val_loss += loss.item() * inputs.size(0)\n",
    "                total_val_samples += targets.size(0)\n",
    "\n",
    "                # Calculate accuracy and F1 score for validation\n",
    "                acc = binary_accuracy(outputs, targets)\n",
    "                val_corrects += acc.item() * inputs.size(0)\n",
    "\n",
    "                f1 = f1_score(outputs, targets)\n",
    "                val_f1 += f1.item() * inputs.size(0)\n",
    "\n",
    "        val_loss /= total_val_samples\n",
    "        val_acc = val_corrects / total_val_samples\n",
    "        val_f1 = val_f1 / total_val_samples\n",
    "\n",
    "        # Store validation metrics\n",
    "        history['val_loss'].append(val_loss)\n",
    "        history['val_acc'].append(val_acc)\n",
    "        history['val_f1'].append(val_f1)\n",
    "\n",
    "        elapsed_time = time.time() - start_time\n",
    "\n",
    "        # Print progress\n",
    "        print(f'Epoch {epoch}/{num_epochs} '\n",
    "              f'{len(train_loader)}/{len(train_loader)} [==============================] - '\n",
    "              f'{elapsed_time:.0f}s - loss: {epoch_loss:.4f} - accuracy: {epoch_acc * 100:.2f}% - f1: {epoch_f1:.4f} ---------------------------------------------- '\n",
    "              f'val_loss: {val_loss:.4f} - val_accuracy: {val_acc * 100:.2f}% - val_f1: {val_f1:.4f}')\n",
    "\n",
    "        # Early stopping check\n",
    "        early_stopping(val_loss, model)\n",
    "        if early_stopping.early_stop:\n",
    "            print(\"Early stopping\")\n",
    "            break\n",
    "\n",
    "    return history  # Return the history for plotting\n",
    "# Setup for training\n",
    "device = torch.device(\"cuda\" if torch.cuda.is_available() else \"cpu\")\n",
    "model = DeepLabV3Plus().to(device)\n",
    "\n",
    "# Define optimizer, criterion, and hyperparameters\n",
    "optimizer = Adam(model.parameters(), lr=0.0001)\n",
    "criterion = nn.BCELoss()  # Binary Cross-Entropy Loss\n",
    "num_epochs = 100\n",
    "patience = 10\n",
    "batch_size = 16\n",
    "model_path = \"D:/Mohamed Sheriff/Projects/Computer Vision Internship - Cellula Technologies/Water Segementation/Model/torch_9channels.pth\"\n",
    "\n",
    "# Create DataLoader\n",
    "train_loader = DataLoader(train_dataset_subset, batch_size=batch_size, shuffle=True)\n",
    "val_loader = DataLoader(val_dataset_subset, batch_size=batch_size, shuffle=False)\n",
    "# Train the model and get the history\n",
    "history = train_model(model, train_loader, val_loader, criterion, optimizer, num_epochs, patience, model_path, device)\n",
    "\n",
    "# Plotting the metrics\n",
    "fig, axs = plt.subplots(3, 1, figsize=(10, 15))\n",
    "\n",
    "# Plot Loss\n",
    "axs[0].plot(history['train_loss'], color='teal', label='Train Loss')\n",
    "axs[0].plot(history['val_loss'], color='orange', label='Val Loss')\n",
    "axs[0].set_title('Loss')\n",
    "axs[0].legend(loc=\"upper left\")\n",
    "\n",
    "# Plot Accuracy\n",
    "axs[1].plot(history['train_acc'], color='teal', label='Train Accuracy')\n",
    "axs[1].plot(history['val_acc'], color='orange', label='Val Accuracy')\n",
    "axs[1].set_title('Accuracy')\n",
    "axs[1].legend(loc=\"upper left\")\n",
    "\n",
    "# Plot F1 Score\n",
    "axs[2].plot(history['train_f1'], color='teal', label='Train F1')\n",
    "axs[2].plot(history['val_f1'], color='orange', label='Val F1')\n",
    "axs[2].set_title('F1 Score')\n",
    "axs[2].legend(loc=\"upper left\")\n",
    "\n",
    "plt.tight_layout()\n",
    "plt.show()"
   ]
  },
  {
   "cell_type": "code",
   "execution_count": null,
   "id": "d7e3da48-1f25-4bc9-a16c-a6360b8d3fb4",
   "metadata": {},
   "outputs": [],
   "source": []
  },
  {
   "cell_type": "code",
   "execution_count": null,
   "id": "bbd6749a-e560-46f8-8204-d6c776628401",
   "metadata": {},
   "outputs": [],
   "source": []
  },
  {
   "cell_type": "code",
   "execution_count": null,
   "id": "ffbcd9e2-3a3d-4073-9ee0-b2ee13174d6a",
   "metadata": {},
   "outputs": [],
   "source": []
  },
  {
   "cell_type": "code",
   "execution_count": null,
   "id": "ee7a5f80-df24-4a70-8d00-e766a182012a",
   "metadata": {},
   "outputs": [],
   "source": []
  },
  {
   "cell_type": "code",
   "execution_count": null,
   "id": "1b8cb503-69cf-4bc9-afe3-bddc8634b738",
   "metadata": {},
   "outputs": [],
   "source": []
  },
  {
   "cell_type": "code",
   "execution_count": null,
   "id": "64c16e70-b11e-49ad-8318-a40ed9b56271",
   "metadata": {},
   "outputs": [],
   "source": []
  },
  {
   "cell_type": "code",
   "execution_count": null,
   "id": "7ddad752-9ad0-462d-9a4e-4c5f24ab8390",
   "metadata": {},
   "outputs": [],
   "source": []
  },
  {
   "cell_type": "code",
   "execution_count": null,
   "id": "c2644a60-2d4e-4a34-a159-e99d4a08cf19",
   "metadata": {},
   "outputs": [],
   "source": []
  }
 ],
 "metadata": {
  "kernelspec": {
   "display_name": "torch",
   "language": "python",
   "name": "torch"
  },
  "language_info": {
   "codemirror_mode": {
    "name": "ipython",
    "version": 3
   },
   "file_extension": ".py",
   "mimetype": "text/x-python",
   "name": "python",
   "nbconvert_exporter": "python",
   "pygments_lexer": "ipython3",
   "version": "3.9.19"
  }
 },
 "nbformat": 4,
 "nbformat_minor": 5
}
